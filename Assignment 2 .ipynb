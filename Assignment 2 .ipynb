{
 "cells": [
  {
   "cell_type": "code",
   "execution_count": null,
   "id": "c34345f6-70fb-4b1c-ad8b-4df9e26c1c48",
   "metadata": {},
   "outputs": [],
   "source": [
    "#total price"
   ]
  },
  {
   "cell_type": "code",
   "execution_count": 13,
   "id": "3bffff17-2767-4b95-a236-3bfaf7dfbb79",
   "metadata": {},
   "outputs": [
    {
     "name": "stdout",
     "output_type": "stream",
     "text": [
      "total: $25 Thousand\n",
      "total: $257 Thousand\n",
      "total: $212 Thousand\n",
      "total: $116 Thousand\n",
      "total: $99 Thousand\n",
      "total: $35 Thousand\n"
     ]
    }
   ],
   "source": [
    "price = [25,257,212,116, 99,35]\n",
    "total = 0\n",
    "for x in price:\n",
    "    x += total\n",
    "    print(f'total: ${x} Thousand')"
   ]
  },
  {
   "cell_type": "code",
   "execution_count": 11,
   "id": "5cbb12c7-b1ce-4985-96de-da52fe374ad4",
   "metadata": {},
   "outputs": [
    {
     "name": "stdout",
     "output_type": "stream",
     "text": [
      "Country: Nigeria, Capital: Abuja, GDP: $252.7 Billion, Region: West Africa\n",
      "Country: Cote divoire, Capital: Yamoussoukro, GDP: $86.9 Billion, Region: West Africa\n",
      "Country: Ghana, Capital: Accra, GDP: $75.2 Billion, Region: West Africa\n",
      "Country: Senegal, Capital: Dakar, GDP: $35.5 Billion, Region: West Africa\n",
      "Country: Cameroon, Capital: Yaoundé, GDP: $53.2 Billion, Region: West Africa\n",
      "Country: Burkina Faso, Capital: Ouagadougou, GDP: $21.9 Billion, Region: West Africa\n",
      "Country: Mali, Capital: Bamako, GDP: $21.7 Billion, Region: West Africa\n",
      "Country: Benin, Capital: Porto Novo, GDP: $21.4 Billion, Region: West Africa\n",
      "Country: Guinea, Capital: Conakry, GDP: $25.4 Billion, Region: West Africa\n",
      "Country: Niger, Capital: Niamey, GDP: $18.8 Billion, Region: West Africa\n",
      "Country: Togo, Capital: Lome, GDP: $9.8 Billion, Region: West Africa\n",
      "Country:  Sierra Leone, Capital: Freetown, GDP: $4.6 Billion, Region: West Africa\n",
      "Country: Liberia, Capital: Monrovia, GDP: $4.8 Billion, Region: West Africa\n",
      "Country: The Gambia, Capital: Banjul, GDP: $2.7 Billion, Region: West Africa\n",
      "Country: Guinea-Bissau, Capital: Bissau, GDP: $2.2 Billion, Region: West Africa\n",
      "Country: Cape Verde, Capital: Praia, GDP: $2.7 Billion, Region: West Africa\n",
      "Country: Ethiopia, Capital: Adis Ababa, GDP: $205.1 Billion, Region: East Africa\n",
      "Country: Kenya, Capital: Nairobi, GDP: $116.3 Billion, Region: East Africa\n",
      "Country: Tanzania, Capital: Dodoma, GDP: $79.6 Billion, Region: East Africa\n",
      "Country: Uganda, Capital: Kampala, GDP: $56.3 Billion, Region: East Africa\n",
      "Country: Rwanda, Capital: Kigali, GDP: $13.7 Billion, Region: East Africa\n",
      "Country: Somalia, Capital: Mogadishu, GDP: $12.8 Billion, Region: East Africa\n",
      "Country: Malawi, Capital: Lilongwe, GDP: $11.2 Billion, Region: East Africa\n",
      "Country: South Sudan, Capital: Juba, GDP: $6.5 Billion, Region: East Africa\n",
      "Country: Djibouti, Capital: Djibouti, GDP: $4.4 Billion, Region: East Africa\n",
      "Country: Burundi, Capital: Gitega, GDP: $3.1 Billion, Region: East Africa\n",
      "Country: Eritrea, Capital: Asmara, GDP: $0 Billion, Region: East Africa\n",
      "Country: Seychelles, Capital: Victoria, GDP: $1.6 Billion, Region: East Africa\n"
     ]
    }
   ],
   "source": [
    "# african continent \n",
    "africa={'Nigeria':{'capital': 'Abuja','GDP': 252.7,'region' :'West Africa' }, 'Cote divoire':{'capital':'Yamoussoukro', 'GDP' : 86.9 , 'region' : 'West Africa'}, 'Ghana':{'capital': 'Accra', 'GDP' : 75.2 , 'region' : 'West Africa'}, 'Senegal':{'capital' : 'Dakar', 'GDP' : 35.5 , 'region' : 'West Africa'}, 'Cameroon':{'capital' : 'Yaoundé', 'GDP' : 53.2, 'region' : 'West Africa'}, 'Burkina Faso':{'capital' : 'Ouagadougou', 'GDP' : 21.9, 'region' : 'West Africa'}, 'Mali' : {'capital' : 'Bamako', 'GDP' : 21.7, 'region' : 'West Africa'}, 'Benin' : {'capital' : 'Porto Novo', 'GDP' : 21.4, 'region' : 'West Africa'},'Guinea' : {'capital' : 'Conakry', 'GDP' : 25.4, 'region' : 'West Africa'}, 'Niger' : {'capital' : 'Niamey', 'GDP' : 18.8, 'region' : 'West Africa'}, 'Togo' : {'capital' : 'Lome', 'GDP' : 9.8, 'region' : 'West Africa'}, ' Sierra Leone' : {'capital' : 'Freetown', 'GDP' : 4.6, 'region' : 'West Africa'}, 'Liberia' : {'capital' : 'Monrovia', 'GDP' : 4.8, 'region' : 'West Africa'}, 'The Gambia' : {'capital' : 'Banjul', 'GDP' : 2.7, 'region' : 'West Africa'}, 'Guinea-Bissau' : {'capital' : 'Bissau', 'GDP' : 2.2, 'region' : 'West Africa'}, 'Cape Verde' : {'capital' : 'Praia', 'GDP' : 2.7, 'region' : 'West Africa'}, 'Ethiopia' : {'capital' : 'Adis Ababa', 'GDP' : 205.1, 'region' : 'East Africa'}, 'Kenya' : {'capital' : 'Nairobi', 'GDP' : 116.3, 'region' : 'East Africa'}, 'Tanzania' : {'capital' : 'Dodoma', 'GDP' : 79.6, 'region' : 'East Africa'}, 'Uganda' : {'capital' : 'Kampala', 'GDP' : 56.3, 'region' : 'East Africa'}, 'Rwanda' : {'capital' : 'Kigali', 'GDP' : 13.7, 'region' : 'East Africa'}, 'Somalia' : {'capital' : 'Mogadishu', 'GDP' : 12.8, 'region' : 'East Africa'}, 'Malawi' : {'capital' : 'Lilongwe', 'GDP' : 11.2, 'region' : 'East Africa'}, 'South Sudan' : {'capital' : 'Juba', 'GDP' : 6.5, 'region' : 'East Africa'}, 'Djibouti' : {'capital' : 'Djibouti', 'GDP' : 4.4 , 'region' : 'East Africa'}, 'Burundi' : {'capital' : 'Gitega', 'GDP' : 3.1, 'region' : 'East Africa'}, 'Eritrea' : {'capital' : 'Asmara', 'GDP' : 0, 'region' : 'East Africa'}, 'Seychelles' : {'capital' : 'Victoria', 'GDP' : 1.6, 'region' : 'East Africa'}} \n",
    "# the GDP is in billion dollar\n",
    "for country, details in africa.items():\n",
    "    print(f'Country: {country}, Capital: {details['capital']}, GDP: ${details['GDP']} Billion, Region: {details['region']}')"
   ]
  },
  {
   "cell_type": "code",
   "execution_count": 19,
   "id": "c3910e00-27be-4a07-846f-f07db62ea029",
   "metadata": {},
   "outputs": [],
   "source": [
    "africa['Benin']['capital'] = 'Porto-Novo'"
   ]
  },
  {
   "cell_type": "code",
   "execution_count": 21,
   "id": "15c84393-6c1e-48d6-b3a0-2bc8fd485c95",
   "metadata": {},
   "outputs": [
    {
     "name": "stdout",
     "output_type": "stream",
     "text": [
      "Country: Nigeria, Capital: Abuja, GDP: $252.7 Billion, Region: West Africa\n",
      "Country: Cote divoire, Capital: Yamoussoukro, GDP: $86.9 Billion, Region: West Africa\n",
      "Country: Ghana, Capital: Accra, GDP: $75.2 Billion, Region: West Africa\n",
      "Country: Senegal, Capital: Dakar, GDP: $35.5 Billion, Region: West Africa\n",
      "Country: Cameroon, Capital: Yaoundé, GDP: $53.2 Billion, Region: West Africa\n",
      "Country: Burkina Faso, Capital: Ouagadougou, GDP: $21.9 Billion, Region: West Africa\n",
      "Country: Mali, Capital: Bamako, GDP: $21.7 Billion, Region: West Africa\n",
      "Country: Benin, Capital: Porto Novo, GDP: $21.4 Billion, Region: West Africa\n",
      "Country: Guinea, Capital: Conakry, GDP: $25.4 Billion, Region: West Africa\n",
      "Country: Niger, Capital: Niamey, GDP: $18.8 Billion, Region: West Africa\n",
      "Country: Togo, Capital: Lome, GDP: $9.8 Billion, Region: West Africa\n",
      "Country:  Sierra Leone, Capital: Freetown, GDP: $4.6 Billion, Region: West Africa\n",
      "Country: Liberia, Capital: Monrovia, GDP: $4.8 Billion, Region: West Africa\n",
      "Country: The Gambia, Capital: Banjul, GDP: $2.7 Billion, Region: West Africa\n",
      "Country: Guinea-Bissau, Capital: Bissau, GDP: $2.2 Billion, Region: West Africa\n",
      "Country: Cape Verde, Capital: Praia, GDP: $2.7 Billion, Region: West Africa\n",
      "Country: Ethiopia, Capital: Adis Ababa, GDP: $205.1 Billion, Region: East Africa\n",
      "Country: Kenya, Capital: Nairobi, GDP: $116.3 Billion, Region: East Africa\n",
      "Country: Tanzania, Capital: Dodoma, GDP: $79.6 Billion, Region: East Africa\n",
      "Country: Uganda, Capital: Kampala, GDP: $56.3 Billion, Region: East Africa\n",
      "Country: Rwanda, Capital: Kigali, GDP: $13.7 Billion, Region: East Africa\n",
      "Country: Somalia, Capital: Mogadishu, GDP: $12.8 Billion, Region: East Africa\n",
      "Country: Malawi, Capital: Lilongwe, GDP: $11.2 Billion, Region: East Africa\n",
      "Country: South Sudan, Capital: Juba, GDP: $6.5 Billion, Region: East Africa\n",
      "Country: Djibouti, Capital: Djibouti, GDP: $4.4 Billion, Region: East Africa\n",
      "Country: Burundi, Capital: Gitega, GDP: $3.1 Billion, Region: East Africa\n",
      "Country: Eritrea, Capital: Asmara, GDP: $0 Billion, Region: East Africa\n",
      "Country: Seychelles, Capital: Victoria, GDP: $1.6 Billion, Region: East Africa\n"
     ]
    }
   ],
   "source": [
    "africa={'Nigeria':{'capital': 'Abuja','GDP': 252.7,'region' :'West Africa' }, 'Cote divoire':{'capital':'Yamoussoukro', 'GDP' : 86.9 , 'region' : 'West Africa'}, 'Ghana':{'capital': 'Accra', 'GDP' : 75.2 , 'region' : 'West Africa'}, 'Senegal':{'capital' : 'Dakar', 'GDP' : 35.5 , 'region' : 'West Africa'}, 'Cameroon':{'capital' : 'Yaoundé', 'GDP' : 53.2, 'region' : 'West Africa'}, 'Burkina Faso':{'capital' : 'Ouagadougou', 'GDP' : 21.9, 'region' : 'West Africa'}, 'Mali' : {'capital' : 'Bamako', 'GDP' : 21.7, 'region' : 'West Africa'}, 'Benin' : {'capital' : 'Porto Novo', 'GDP' : 21.4, 'region' : 'West Africa'},'Guinea' : {'capital' : 'Conakry', 'GDP' : 25.4, 'region' : 'West Africa'}, 'Niger' : {'capital' : 'Niamey', 'GDP' : 18.8, 'region' : 'West Africa'}, 'Togo' : {'capital' : 'Lome', 'GDP' : 9.8, 'region' : 'West Africa'}, ' Sierra Leone' : {'capital' : 'Freetown', 'GDP' : 4.6, 'region' : 'West Africa'}, 'Liberia' : {'capital' : 'Monrovia', 'GDP' : 4.8, 'region' : 'West Africa'}, 'The Gambia' : {'capital' : 'Banjul', 'GDP' : 2.7, 'region' : 'West Africa'}, 'Guinea-Bissau' : {'capital' : 'Bissau', 'GDP' : 2.2, 'region' : 'West Africa'}, 'Cape Verde' : {'capital' : 'Praia', 'GDP' : 2.7, 'region' : 'West Africa'}, 'Ethiopia' : {'capital' : 'Adis Ababa', 'GDP' : 205.1, 'region' : 'East Africa'}, 'Kenya' : {'capital' : 'Nairobi', 'GDP' : 116.3, 'region' : 'East Africa'}, 'Tanzania' : {'capital' : 'Dodoma', 'GDP' : 79.6, 'region' : 'East Africa'}, 'Uganda' : {'capital' : 'Kampala', 'GDP' : 56.3, 'region' : 'East Africa'}, 'Rwanda' : {'capital' : 'Kigali', 'GDP' : 13.7, 'region' : 'East Africa'}, 'Somalia' : {'capital' : 'Mogadishu', 'GDP' : 12.8, 'region' : 'East Africa'}, 'Malawi' : {'capital' : 'Lilongwe', 'GDP' : 11.2, 'region' : 'East Africa'}, 'South Sudan' : {'capital' : 'Juba', 'GDP' : 6.5, 'region' : 'East Africa'}, 'Djibouti' : {'capital' : 'Djibouti', 'GDP' : 4.4 , 'region' : 'East Africa'}, 'Burundi' : {'capital' : 'Gitega', 'GDP' : 3.1, 'region' : 'East Africa'}, 'Eritrea' : {'capital' : 'Asmara', 'GDP' : 0, 'region' : 'East Africa'}, 'Seychelles' : {'capital' : 'Victoria', 'GDP' : 1.6, 'region' : 'East Africa'}} \n",
    "# the GDP is in billion dollar\n",
    "for country, details in africa.items():\n",
    "    print(f'Country: {country}, Capital: {details['capital']}, GDP: ${details['GDP']} Billion, Region: {details['region']}')"
   ]
  },
  {
   "cell_type": "code",
   "execution_count": null,
   "id": "cb712a61-80ee-47ae-9bcd-99cd1193a1e4",
   "metadata": {},
   "outputs": [],
   "source": []
  }
 ],
 "metadata": {
  "kernelspec": {
   "display_name": "Python [conda env:base] *",
   "language": "python",
   "name": "conda-base-py"
  },
  "language_info": {
   "codemirror_mode": {
    "name": "ipython",
    "version": 3
   },
   "file_extension": ".py",
   "mimetype": "text/x-python",
   "name": "python",
   "nbconvert_exporter": "python",
   "pygments_lexer": "ipython3",
   "version": "3.12.7"
  }
 },
 "nbformat": 4,
 "nbformat_minor": 5
}
