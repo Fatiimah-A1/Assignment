{
 "cells": [
  {
   "cell_type": "code",
   "execution_count": 21,
   "id": "1bb4f4c8-8275-430c-9a68-60ceed6da755",
   "metadata": {},
   "outputs": [],
   "source": [
    "import math"
   ]
  },
  {
   "cell_type": "code",
   "execution_count": 47,
   "id": "1dcda023-27be-4407-9baf-6b7cac6d47f1",
   "metadata": {},
   "outputs": [
    {
     "name": "stdin",
     "output_type": "stream",
     "text": [
      "Enter your weight in kg : 60\n",
      "Enter your height in meters : 1.75\n"
     ]
    },
    {
     "name": "stdout",
     "output_type": "stream",
     "text": [
      "Your BMI is: 19.59\n",
      "Normal Weight\n",
      "\n",
      "Body Mass Index Chart:\n",
      "- 18 - 25 = Normal Weight\n",
      "- Less than 18 = Underweight\n",
      "- Greater than 25 = Overweight or Obese\n",
      "\n"
     ]
    }
   ],
   "source": [
    "#BMI Assignment\n",
    "\n",
    "weight = float(input('Enter your weight in kg :')) \n",
    "height = float(input('Enter your height in meters :'))\n",
    "\n",
    "#Using the float funtion because it will converter the value put in from a string to a numerical value as this is required to make numerical calculations also it allows for more accurace as decimal values can happen\n",
    "                                                                                                                                                                       \n",
    "BMI = weight/ math.pow(height, 2) # The formula for calculating the BMI, using the Math.pow function from the math module to calculate the height in meter sqaure\n",
    "\n",
    "BMI_rounded = round(BMI, 2) # Using the round function to give the aanswer of the BMI to 2 decimal points \n",
    "print(f'Your BMI is: {BMI_rounded}') # Using the format function to print the statement for the BMI results exactly as I would like\n",
    "\n",
    "if 18 <= BMI <= 25 : \n",
    "    print('Normal Weight')\n",
    "elif BMI < 18 :\n",
    "    print('Underweight')\n",
    "else:\n",
    "    print('Overweigth')\n",
    "    \n",
    "#Using the IF function to catergorise the answers of the BMI into Normal Weight, Underweight or Over weight depending on the range they fall into.\n",
    "\n",
    "msg = \"\"\"\\nBody Mass Index Chart:\n",
    "- 18 - 25 = Normal Weight\n",
    "- Less than 18 = Underweight\n",
    "- Greater than 25 = Overweight or Obese\n",
    "\"\"\"\n",
    "print(msg)\n",
    "# since the message is a multi-line string the \"\"\"\\n indicates this and allows for the format to work properly.\n",
    "# The message will futher explain the reply given when the BMI has been calculated.\n"
   ]
  },
  {
   "cell_type": "code",
   "execution_count": 49,
   "id": "575f4874-e4a6-4f25-a9d3-412412b2dd4d",
   "metadata": {},
   "outputs": [
    {
     "name": "stdin",
     "output_type": "stream",
     "text": [
      "Enter your Title Mr\n",
      "Enter First name John\n",
      "Enter Last name Mark\n",
      "Enter Year of Service Commencemnt 2002\n",
      "Enter your Birth year 1989\n",
      "Enter the current year 2023\n"
     ]
    },
    {
     "name": "stdout",
     "output_type": "stream",
     "text": [
      "\n",
      "Hello Mr John Mark.\n",
      "You are 34 and you will be retiring in the year 2049 at the age of 60.\n",
      "You have spent 21 years in active service.\n",
      "You have 26 more years of active service left.\n",
      "Thank you for your service.\n"
     ]
    }
   ],
   "source": [
    "#Civil Service retirement Assignment \n",
    "Title = input('Enter your Title')\n",
    "First_name = input('Enter First name')\n",
    "Last_name = input('Enter Last name')\n",
    "Year_Commenced_Civil_Service = int(input('Enter Year of Service Commencemnt'))\n",
    "Birth_year = int(input('Enter your Birth year'))\n",
    "Current_year = int(input('Enter the current year'))\n",
    "# integer functions add to the last three variables as the will be need for numerical calculations and can't be used as a string.\n",
    "\n",
    "Current_age = Current_year - Birth_year # calculating the current age of the personnel\n",
    "Retirement_year = Birth_year + 60 # since the official retirment age is 60 it will be added to the birth year to determine the year of retirement.\n",
    "Retirement_age= 60 # the official retirement age 60\n",
    "Years_of_Service = Current_year - Year_Commenced_Civil_Service # to calculate the number of years in current service \n",
    "Years_left = Retirement_year - Current_year # to determine the number of years left before retirement.\n",
    "\n",
    "#formatted printing\n",
    "print(f\"\\nHello {Title} {First_name} {Last_name}.\")\n",
    "print(f\"You are {Current_age} and you will be retiring in the year {Retirement_year} at the age of {Retirement_age}.\")\n",
    "print(f\"You have spent {Years_of_Service} years in active service.\")\n",
    "print(f\"You have {Years_left} more years of active service left.\")\n",
    "print(\"Thank you for your service.\")\n"
   ]
  },
  {
   "cell_type": "code",
   "execution_count": null,
   "id": "1fb9229b-5a88-4875-b0a0-894f18494904",
   "metadata": {},
   "outputs": [],
   "source": [
    " "
   ]
  }
 ],
 "metadata": {
  "kernelspec": {
   "display_name": "Python [conda env:base] *",
   "language": "python",
   "name": "conda-base-py"
  },
  "language_info": {
   "codemirror_mode": {
    "name": "ipython",
    "version": 3
   },
   "file_extension": ".py",
   "mimetype": "text/x-python",
   "name": "python",
   "nbconvert_exporter": "python",
   "pygments_lexer": "ipython3",
   "version": "3.12.7"
  }
 },
 "nbformat": 4,
 "nbformat_minor": 5
}
